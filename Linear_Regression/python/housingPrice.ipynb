{
 "cells": [
  {
   "cell_type": "markdown",
   "metadata": {},
   "source": [
    "# Linear Regression with multiple features\n",
    "\n",
    "Your neighbor is a real estate agent and wants some help predicting housing prices for a particular region. Given the test input, predict the house price using \"Gradient Descent\" and \"Normal equation\" and check the results\n",
    "\n",
    "Dataset - ex1data2.txt file\n",
    "The data contains 3 columns - Housing area, Number of bedrooms and Price of house\n",
    "\n",
    "Method 1 - Normal Equation\n",
    "Given X(features), y(target)\n",
    "theta(coeff for predicting price of house) = inverse(X'X)X'y\n",
    "\n",
    "Method 2 - Gradient descent\n",
    "For a fixed learning rate (alpha), find the values of theta for which the cost function is minimum."
   ]
  },
  {
   "cell_type": "code",
   "execution_count": 1,
   "metadata": {},
   "outputs": [],
   "source": [
    "import pandas as pd\n",
    "import numpy as np"
   ]
  },
  {
   "cell_type": "markdown",
   "metadata": {},
   "source": [
    "### Loading the dataset"
   ]
  },
  {
   "cell_type": "code",
   "execution_count": 3,
   "metadata": {},
   "outputs": [],
   "source": [
    "data = pd.read_csv('ex1data2.txt',sep = \",\",header=None, names = ['House Area','No of Bedrooms','Price'])"
   ]
  },
  {
   "cell_type": "code",
   "execution_count": 4,
   "metadata": {},
   "outputs": [
    {
     "data": {
      "text/html": [
       "<div>\n",
       "<style scoped>\n",
       "    .dataframe tbody tr th:only-of-type {\n",
       "        vertical-align: middle;\n",
       "    }\n",
       "\n",
       "    .dataframe tbody tr th {\n",
       "        vertical-align: top;\n",
       "    }\n",
       "\n",
       "    .dataframe thead th {\n",
       "        text-align: right;\n",
       "    }\n",
       "</style>\n",
       "<table border=\"1\" class=\"dataframe\">\n",
       "  <thead>\n",
       "    <tr style=\"text-align: right;\">\n",
       "      <th></th>\n",
       "      <th>House Area</th>\n",
       "      <th>No of Bedrooms</th>\n",
       "      <th>Price</th>\n",
       "    </tr>\n",
       "  </thead>\n",
       "  <tbody>\n",
       "    <tr>\n",
       "      <th>0</th>\n",
       "      <td>2104</td>\n",
       "      <td>3</td>\n",
       "      <td>399900</td>\n",
       "    </tr>\n",
       "    <tr>\n",
       "      <th>1</th>\n",
       "      <td>1600</td>\n",
       "      <td>3</td>\n",
       "      <td>329900</td>\n",
       "    </tr>\n",
       "    <tr>\n",
       "      <th>2</th>\n",
       "      <td>2400</td>\n",
       "      <td>3</td>\n",
       "      <td>369000</td>\n",
       "    </tr>\n",
       "    <tr>\n",
       "      <th>3</th>\n",
       "      <td>1416</td>\n",
       "      <td>2</td>\n",
       "      <td>232000</td>\n",
       "    </tr>\n",
       "    <tr>\n",
       "      <th>4</th>\n",
       "      <td>3000</td>\n",
       "      <td>4</td>\n",
       "      <td>539900</td>\n",
       "    </tr>\n",
       "  </tbody>\n",
       "</table>\n",
       "</div>"
      ],
      "text/plain": [
       "   House Area  No of Bedrooms   Price\n",
       "0        2104               3  399900\n",
       "1        1600               3  329900\n",
       "2        2400               3  369000\n",
       "3        1416               2  232000\n",
       "4        3000               4  539900"
      ]
     },
     "execution_count": 4,
     "metadata": {},
     "output_type": "execute_result"
    }
   ],
   "source": [
    "data.head(5)"
   ]
  },
  {
   "cell_type": "code",
   "execution_count": 5,
   "metadata": {},
   "outputs": [
    {
     "name": "stdout",
     "output_type": "stream",
     "text": [
      "<class 'pandas.core.frame.DataFrame'>\n",
      "RangeIndex: 47 entries, 0 to 46\n",
      "Data columns (total 3 columns):\n",
      " #   Column          Non-Null Count  Dtype\n",
      "---  ------          --------------  -----\n",
      " 0   House Area      47 non-null     int64\n",
      " 1   No of Bedrooms  47 non-null     int64\n",
      " 2   Price           47 non-null     int64\n",
      "dtypes: int64(3)\n",
      "memory usage: 1.2 KB\n"
     ]
    }
   ],
   "source": [
    "data.info()"
   ]
  },
  {
   "cell_type": "code",
   "execution_count": 6,
   "metadata": {},
   "outputs": [
    {
     "data": {
      "text/html": [
       "<div>\n",
       "<style scoped>\n",
       "    .dataframe tbody tr th:only-of-type {\n",
       "        vertical-align: middle;\n",
       "    }\n",
       "\n",
       "    .dataframe tbody tr th {\n",
       "        vertical-align: top;\n",
       "    }\n",
       "\n",
       "    .dataframe thead th {\n",
       "        text-align: right;\n",
       "    }\n",
       "</style>\n",
       "<table border=\"1\" class=\"dataframe\">\n",
       "  <thead>\n",
       "    <tr style=\"text-align: right;\">\n",
       "      <th></th>\n",
       "      <th>House Area</th>\n",
       "      <th>No of Bedrooms</th>\n",
       "      <th>Price</th>\n",
       "    </tr>\n",
       "  </thead>\n",
       "  <tbody>\n",
       "    <tr>\n",
       "      <th>count</th>\n",
       "      <td>47.000000</td>\n",
       "      <td>47.000000</td>\n",
       "      <td>47.000000</td>\n",
       "    </tr>\n",
       "    <tr>\n",
       "      <th>mean</th>\n",
       "      <td>2000.680851</td>\n",
       "      <td>3.170213</td>\n",
       "      <td>340412.659574</td>\n",
       "    </tr>\n",
       "    <tr>\n",
       "      <th>std</th>\n",
       "      <td>794.702354</td>\n",
       "      <td>0.760982</td>\n",
       "      <td>125039.899586</td>\n",
       "    </tr>\n",
       "    <tr>\n",
       "      <th>min</th>\n",
       "      <td>852.000000</td>\n",
       "      <td>1.000000</td>\n",
       "      <td>169900.000000</td>\n",
       "    </tr>\n",
       "    <tr>\n",
       "      <th>25%</th>\n",
       "      <td>1432.000000</td>\n",
       "      <td>3.000000</td>\n",
       "      <td>249900.000000</td>\n",
       "    </tr>\n",
       "    <tr>\n",
       "      <th>50%</th>\n",
       "      <td>1888.000000</td>\n",
       "      <td>3.000000</td>\n",
       "      <td>299900.000000</td>\n",
       "    </tr>\n",
       "    <tr>\n",
       "      <th>75%</th>\n",
       "      <td>2269.000000</td>\n",
       "      <td>4.000000</td>\n",
       "      <td>384450.000000</td>\n",
       "    </tr>\n",
       "    <tr>\n",
       "      <th>max</th>\n",
       "      <td>4478.000000</td>\n",
       "      <td>5.000000</td>\n",
       "      <td>699900.000000</td>\n",
       "    </tr>\n",
       "  </tbody>\n",
       "</table>\n",
       "</div>"
      ],
      "text/plain": [
       "        House Area  No of Bedrooms          Price\n",
       "count    47.000000       47.000000      47.000000\n",
       "mean   2000.680851        3.170213  340412.659574\n",
       "std     794.702354        0.760982  125039.899586\n",
       "min     852.000000        1.000000  169900.000000\n",
       "25%    1432.000000        3.000000  249900.000000\n",
       "50%    1888.000000        3.000000  299900.000000\n",
       "75%    2269.000000        4.000000  384450.000000\n",
       "max    4478.000000        5.000000  699900.000000"
      ]
     },
     "execution_count": 6,
     "metadata": {},
     "output_type": "execute_result"
    }
   ],
   "source": [
    "data.describe()"
   ]
  },
  {
   "cell_type": "markdown",
   "metadata": {},
   "source": [
    "### Data Separation\n",
    "\n",
    "Now separate the features (X) and target (y) from dataframe.  \n",
    "Add a new column (a column of ones) to the beginning of X"
   ]
  },
  {
   "cell_type": "code",
   "execution_count": 7,
   "metadata": {},
   "outputs": [],
   "source": [
    "X = data[['House Area','No of Bedrooms']]\n",
    "y = data['Price']"
   ]
  },
  {
   "cell_type": "code",
   "execution_count": 8,
   "metadata": {},
   "outputs": [],
   "source": [
    "new_col = np.ones((X.shape[0],1))\n",
    "X.insert(loc = 0, column = 'weights', value = new_col)"
   ]
  },
  {
   "cell_type": "markdown",
   "metadata": {},
   "source": [
    "### Normal equation:\n",
    "\n",
    "The function to find theta using normal equation method is defined in the file \"normalEquation.py)  \n",
    "Import the file and calculate the values for the set(X,y)"
   ]
  },
  {
   "cell_type": "code",
   "execution_count": 9,
   "metadata": {},
   "outputs": [],
   "source": [
    "## Lets compute the value of theta from normal equation\n",
    "import normalEquation as ne"
   ]
  },
  {
   "cell_type": "code",
   "execution_count": 10,
   "metadata": {},
   "outputs": [],
   "source": [
    "theta = ne.normaleq(X,y)"
   ]
  },
  {
   "cell_type": "code",
   "execution_count": 11,
   "metadata": {},
   "outputs": [
    {
     "data": {
      "text/plain": [
       "array([89597.90954361,   139.21067402, -8738.01911255])"
      ]
     },
     "execution_count": 11,
     "metadata": {},
     "output_type": "execute_result"
    }
   ],
   "source": [
    "theta"
   ]
  },
  {
   "cell_type": "markdown",
   "metadata": {},
   "source": [
    "### Predicting the house price\n",
    "\n",
    "Consider an area of 1650 sq m and assume to construct 3 bedroom house.  \n",
    "Can you predict the house price ??"
   ]
  },
  {
   "cell_type": "code",
   "execution_count": 12,
   "metadata": {},
   "outputs": [],
   "source": [
    "# now lets estimate house price for a area of 1650 and 3 bedroom\n",
    "X_test = [1,1650,3]\n",
    "predicted_val = np.array(X_test).dot(theta)"
   ]
  },
  {
   "cell_type": "code",
   "execution_count": 13,
   "metadata": {},
   "outputs": [
    {
     "data": {
      "text/plain": [
       "293081.46433498873"
      ]
     },
     "execution_count": 13,
     "metadata": {},
     "output_type": "execute_result"
    }
   ],
   "source": [
    "predicted_val"
   ]
  },
  {
   "cell_type": "markdown",
   "metadata": {},
   "source": [
    "The estimated house price is around 293k $  \n",
    "Let's check if the predicted price is same if the method used is gradient descent"
   ]
  },
  {
   "cell_type": "markdown",
   "metadata": {},
   "source": [
    "### Gradient Descent:\n",
    "\n",
    "This method requires the features to be normalized."
   ]
  },
  {
   "cell_type": "code",
   "execution_count": 14,
   "metadata": {},
   "outputs": [],
   "source": [
    "# Step 1: Normalize the features\n",
    "X_new = data[['House Area','No of Bedrooms']]"
   ]
  },
  {
   "cell_type": "code",
   "execution_count": 15,
   "metadata": {},
   "outputs": [],
   "source": [
    "mean = X_new.mean()\n",
    "sigma = np.std(X_new)\n",
    "X_norm = (X_new - mean) / sigma # all features lie between -3 to 3 or -1/3 to 1/3"
   ]
  },
  {
   "cell_type": "markdown",
   "metadata": {},
   "source": [
    "Add the intercept column(all ones) to the beginning of normalised X"
   ]
  },
  {
   "cell_type": "code",
   "execution_count": 16,
   "metadata": {},
   "outputs": [],
   "source": [
    "# Step 2: Add intercept to X_norm\n",
    "X_norm.insert(loc = 0, column = 'weights', value = new_col)"
   ]
  },
  {
   "cell_type": "markdown",
   "metadata": {},
   "source": [
    "The function is implemented in the file \"gradientDescent.py\". Import the file to compute the value of theta for which the cost function is minimum.  \n",
    "The learning rate (alpha) is fixed and assume the iterations to be around 400.  \n",
    "As the iteration progresses, cost function decreases and gradually settles at minima."
   ]
  },
  {
   "cell_type": "code",
   "execution_count": 17,
   "metadata": {},
   "outputs": [],
   "source": [
    "# Step 3: Gradient descent\n",
    "import gradientDescent as gd"
   ]
  },
  {
   "cell_type": "code",
   "execution_count": 18,
   "metadata": {},
   "outputs": [],
   "source": [
    "# choose value of alpha and number of iterations. Initialize theta\n",
    "alpha, num_iters, theta_g = 0.01, 400, np.zeros(X_norm.shape[1])"
   ]
  },
  {
   "cell_type": "code",
   "execution_count": 19,
   "metadata": {},
   "outputs": [
    {
     "name": "stdout",
     "output_type": "stream",
     "text": [
      "Iteration: 0 and cost: 65591548106.45744\n",
      "Iteration: 1 and cost: 64297776251.62011\n",
      "Iteration: 2 and cost: 63031018305.52132\n",
      "Iteration: 3 and cost: 61790694237.53249\n",
      "Iteration: 4 and cost: 60576236901.991035\n",
      "Iteration: 5 and cost: 59387091739.9886\n",
      "Iteration: 6 and cost: 58222716488.38939\n",
      "Iteration: 7 and cost: 57082580895.8954\n",
      "Iteration: 8 and cost: 55966166445.97885\n",
      "Iteration: 9 and cost: 54872966086.50778\n",
      "Iteration: 10 and cost: 53802483965.89506\n",
      "Iteration: 11 and cost: 52754235175.605446\n",
      "Iteration: 12 and cost: 51727745498.85994\n",
      "Iteration: 13 and cost: 50722551165.380974\n",
      "Iteration: 14 and cost: 49738198612.02588\n",
      "Iteration: 15 and cost: 48774244249.16025\n",
      "Iteration: 16 and cost: 47830254232.6268\n",
      "Iteration: 17 and cost: 46905804241.168976\n",
      "Iteration: 18 and cost: 46000479259.1725\n",
      "Iteration: 19 and cost: 45113873364.59137\n",
      "Iteration: 20 and cost: 44245589521.92844\n",
      "Iteration: 21 and cost: 43395239380.14428\n",
      "Iteration: 22 and cost: 42562443075.37121\n",
      "Iteration: 23 and cost: 41746829038.31239\n",
      "Iteration: 24 and cost: 40948033806.20948\n",
      "Iteration: 25 and cost: 40165701839.264984\n",
      "Iteration: 26 and cost: 39399485341.40871\n",
      "Iteration: 27 and cost: 38649044085.30024\n",
      "Iteration: 28 and cost: 37914045241.46274\n",
      "Iteration: 29 and cost: 37194163211.44539\n",
      "Iteration: 30 and cost: 36489079464.91514\n",
      "Iteration: 31 and cost: 35798482380.58049\n",
      "Iteration: 32 and cost: 35122067090.852936\n",
      "Iteration: 33 and cost: 34459535330.1538\n",
      "Iteration: 34 and cost: 33810595286.77683\n",
      "Iteration: 35 and cost: 33174961458.219242\n",
      "Iteration: 36 and cost: 32552354509.895863\n",
      "Iteration: 37 and cost: 31942501137.15358\n",
      "Iteration: 38 and cost: 31345133930.50523\n",
      "Iteration: 39 and cost: 30759991244.00422\n",
      "Iteration: 40 and cost: 30186817066.683086\n",
      "Iteration: 41 and cost: 29625360896.981297\n",
      "Iteration: 42 and cost: 29075377620.08948\n",
      "Iteration: 43 and cost: 28536627388.13903\n",
      "Iteration: 44 and cost: 28008875503.167988\n",
      "Iteration: 45 and cost: 27491892302.795826\n",
      "Iteration: 46 and cost: 26985453048.541313\n",
      "Iteration: 47 and cost: 26489337816.71971\n",
      "Iteration: 48 and cost: 26003331391.85654\n",
      "Iteration: 49 and cost: 25527223162.557613\n",
      "Iteration: 50 and cost: 25060807019.775593\n",
      "Iteration: 51 and cost: 24603881257.415604\n",
      "Iteration: 52 and cost: 24156248475.223606\n",
      "Iteration: 53 and cost: 23717715483.902462\n",
      "Iteration: 54 and cost: 23288093212.402443\n",
      "Iteration: 55 and cost: 22867196617.33389\n",
      "Iteration: 56 and cost: 22454844594.4512\n",
      "Iteration: 57 and cost: 22050859892.15871\n",
      "Iteration: 58 and cost: 21655069026.990036\n",
      "Iteration: 59 and cost: 21267302201.013813\n",
      "Iteration: 60 and cost: 20887393221.120007\n",
      "Iteration: 61 and cost: 20515179420.141884\n",
      "Iteration: 62 and cost: 20150501579.77011\n",
      "Iteration: 63 and cost: 19793203855.216385\n",
      "Iteration: 64 and cost: 19443133701.585064\n",
      "Iteration: 65 and cost: 19100141801.912357\n",
      "Iteration: 66 and cost: 18764081996.833687\n",
      "Iteration: 67 and cost: 18434811215.840576\n",
      "Iteration: 68 and cost: 18112189410.089684\n",
      "Iteration: 69 and cost: 17796079486.727345\n",
      "Iteration: 70 and cost: 17486347244.693886\n",
      "Iteration: 71 and cost: 17182861311.97299\n",
      "Iteration: 72 and cost: 16885493084.25202\n",
      "Iteration: 73 and cost: 16594116664.9604\n",
      "Iteration: 74 and cost: 16308608806.653463\n",
      "Iteration: 75 and cost: 16028848853.710592\n",
      "Iteration: 76 and cost: 15754718686.316612\n",
      "Iteration: 77 and cost: 15486102665.696712\n",
      "Iteration: 78 and cost: 15222887580.575447\n",
      "Iteration: 79 and cost: 14964962594.831398\n",
      "Iteration: 80 and cost: 14712219196.319693\n",
      "Iteration: 81 and cost: 14464551146.83511\n",
      "Iteration: 82 and cost: 14221854433.189373\n",
      "Iteration: 83 and cost: 13984027219.376745\n",
      "Iteration: 84 and cost: 13750969799.802753\n",
      "Iteration: 85 and cost: 13522584553.551306\n",
      "Iteration: 86 and cost: 13298775899.66643\n",
      "Iteration: 87 and cost: 13079450253.424904\n",
      "Iteration: 88 and cost: 12864515983.577179\n",
      "Iteration: 89 and cost: 12653883370.534122\n",
      "Iteration: 90 and cost: 12447464565.477877\n",
      "Iteration: 91 and cost: 12245173550.375591\n",
      "Iteration: 92 and cost: 12046926098.875237\n",
      "Iteration: 93 and cost: 11852639738.063324\n",
      "Iteration: 94 and cost: 11662233711.064756\n",
      "Iteration: 95 and cost: 11475628940.46551\n",
      "Iteration: 96 and cost: 11292747992.539375\n",
      "Iteration: 97 and cost: 11113515042.26037\n",
      "Iteration: 98 and cost: 10937855839.082851\n",
      "Iteration: 99 and cost: 10765697673.471926\n",
      "Iteration: 100 and cost: 10596969344.166979\n",
      "Iteration: 101 and cost: 10431601126.16171\n",
      "Iteration: 102 and cost: 10269524739.384384\n",
      "Iteration: 103 and cost: 10110673318.06233\n",
      "Iteration: 104 and cost: 9954981380.755344\n",
      "Iteration: 105 and cost: 9802384801.042637\n",
      "Iteration: 106 and cost: 9652820778.848696\n",
      "Iteration: 107 and cost: 9506227812.39355\n",
      "Iteration: 108 and cost: 9362545670.753366\n",
      "Iteration: 109 and cost: 9221715367.01759\n",
      "Iteration: 110 and cost: 9083679132.029165\n",
      "Iteration: 111 and cost: 8948380388.69481\n",
      "Iteration: 112 and cost: 8815763726.852379\n",
      "Iteration: 113 and cost: 8685774878.682932\n",
      "Iteration: 114 and cost: 8558360694.655187\n",
      "Iteration: 115 and cost: 8433469119.990483\n",
      "Iteration: 116 and cost: 8311049171.636581\n",
      "Iteration: 117 and cost: 8191050915.738866\n",
      "Iteration: 118 and cost: 8073425445.597914\n",
      "Iteration: 119 and cost: 7958124860.102504\n",
      "Iteration: 120 and cost: 7845102242.627465\n",
      "Iteration: 121 and cost: 7734311640.386052\n",
      "Iteration: 122 and cost: 7625708044.226661\n",
      "Iteration: 123 and cost: 7519247368.864021\n",
      "Iteration: 124 and cost: 7414886433.535259\n",
      "Iteration: 125 and cost: 7312582943.071294\n",
      "Iteration: 126 and cost: 7212295469.374458\n",
      "Iteration: 127 and cost: 7113983433.293283\n",
      "Iteration: 128 and cost: 7017607086.885625\n",
      "Iteration: 129 and cost: 6923127496.0616455\n",
      "Iteration: 130 and cost: 6830506523.598123\n",
      "Iteration: 131 and cost: 6739706812.51599\n",
      "Iteration: 132 and cost: 6650691769.813034\n",
      "Iteration: 133 and cost: 6563425550.543961\n",
      "Iteration: 134 and cost: 6477873042.240133\n",
      "Iteration: 135 and cost: 6393999849.661557\n",
      "Iteration: 136 and cost: 6311772279.873764\n",
      "Iteration: 137 and cost: 6231157327.642513\n",
      "Iteration: 138 and cost: 6152122661.139249\n",
      "Iteration: 139 and cost: 6074636607.950604\n",
      "Iteration: 140 and cost: 5998668141.385204\n",
      "Iteration: 141 and cost: 5924186867.071306\n",
      "Iteration: 142 and cost: 5851163009.8389\n",
      "Iteration: 143 and cost: 5779567400.880067\n",
      "Iteration: 144 and cost: 5709371465.181492\n",
      "Iteration: 145 and cost: 5640547209.223231\n",
      "Iteration: 146 and cost: 5573067208.937901\n",
      "Iteration: 147 and cost: 5506904597.924617\n",
      "Iteration: 148 and cost: 5442033055.912168\n",
      "Iteration: 149 and cost: 5378426797.46598\n",
      "Iteration: 150 and cost: 5316060560.933568\n",
      "Iteration: 151 and cost: 5254909597.623319\n",
      "Iteration: 152 and cost: 5194949661.2115345\n",
      "Iteration: 153 and cost: 5136156997.3727865\n",
      "Iteration: 154 and cost: 5078508333.628748\n",
      "Iteration: 155 and cost: 5021980869.4107685\n",
      "Iteration: 156 and cost: 4966552266.331585\n",
      "Iteration: 157 and cost: 4912200638.661632\n",
      "Iteration: 158 and cost: 4858904544.005542\n",
      "Iteration: 159 and cost: 4806642974.174525\n",
      "Iteration: 160 and cost: 4755395346.250382\n",
      "Iteration: 161 and cost: 4705141493.837055\n",
      "Iteration: 162 and cost: 4655861658.49564\n",
      "Iteration: 163 and cost: 4607536481.3589525\n",
      "Iteration: 164 and cost: 4560146994.921772\n",
      "Iteration: 165 and cost: 4513674615.002973\n",
      "Iteration: 166 and cost: 4468101132.875878\n",
      "Iteration: 167 and cost: 4423408707.563237\n",
      "Iteration: 168 and cost: 4379579858.293242\n",
      "Iteration: 169 and cost: 4336597457.113228\n",
      "Iteration: 170 and cost: 4294444721.6575575\n",
      "Iteration: 171 and cost: 4253105208.066543\n",
      "Iteration: 172 and cost: 4212562804.0530233\n",
      "Iteration: 173 and cost: 4172801722.1135597\n",
      "Iteration: 174 and cost: 4133806492.881114\n",
      "Iteration: 175 and cost: 4095561958.616177\n",
      "Iteration: 176 and cost: 4058053266.8334436\n",
      "Iteration: 177 and cost: 4021265864.061104\n",
      "Iteration: 178 and cost: 3985185489.7299514\n",
      "Iteration: 179 and cost: 3949798170.189521\n",
      "Iteration: 180 and cost: 3915090212.848611\n",
      "Iteration: 181 and cost: 3881048200.437472\n",
      "Iteration: 182 and cost: 3847658985.3891406\n",
      "Iteration: 183 and cost: 3814909684.3373685\n",
      "Iteration: 184 and cost: 3782787672.72865\n",
      "Iteration: 185 and cost: 3751280579.545979\n",
      "Iteration: 186 and cost: 3720376282.1419315\n",
      "Iteration: 187 and cost: 3690062901.1787825\n",
      "Iteration: 188 and cost: 3660328795.6733556\n",
      "Iteration: 189 and cost: 3631162558.1444583\n",
      "Iteration: 190 and cost: 3602553009.8606653\n",
      "Iteration: 191 and cost: 3574489196.1863756\n",
      "Iteration: 192 and cost: 3546960382.0240526\n",
      "Iteration: 193 and cost: 3519956047.350616\n",
      "Iteration: 194 and cost: 3493465882.846028\n",
      "Iteration: 195 and cost: 3467479785.6120834\n",
      "Iteration: 196 and cost: 3441987854.979558\n",
      "Iteration: 197 and cost: 3416980388.40181\n",
      "Iteration: 198 and cost: 3392447877.4330564\n",
      "Iteration: 199 and cost: 3368381003.789511\n",
      "Iteration: 200 and cost: 3344770635.4916563\n",
      "Iteration: 201 and cost: 3321607823.085977\n",
      "Iteration: 202 and cost: 3298883795.944415\n",
      "Iteration: 203 and cost: 3276589958.639999\n",
      "Iteration: 204 and cost: 3254717887.3969855\n",
      "Iteration: 205 and cost: 3233259326.613998\n",
      "Iteration: 206 and cost: 3212206185.4586062\n",
      "Iteration: 207 and cost: 3191550534.531865\n",
      "Iteration: 208 and cost: 3171284602.601332\n",
      "Iteration: 209 and cost: 3151400773.4011784\n",
      "Iteration: 210 and cost: 3131891582.497912\n",
      "Iteration: 211 and cost: 3112749714.2204375\n",
      "Iteration: 212 and cost: 3093967998.653024\n",
      "Iteration: 213 and cost: 3075539408.6899304\n",
      "Iteration: 214 and cost: 3057457057.1503615\n",
      "Iteration: 215 and cost: 3039714193.952536\n",
      "Iteration: 216 and cost: 3022304203.3455877\n",
      "Iteration: 217 and cost: 3005220601.198149\n",
      "Iteration: 218 and cost: 2988457032.342386\n",
      "Iteration: 219 and cost: 2972007267.972377\n",
      "Iteration: 220 and cost: 2955865203.095664\n",
      "Iteration: 221 and cost: 2940024854.0369077\n",
      "Iteration: 222 and cost: 2924480355.9925337\n",
      "Iteration: 223 and cost: 2909225960.6353436\n",
      "Iteration: 224 and cost: 2894256033.7680163\n",
      "Iteration: 225 and cost: 2879565053.0245194\n",
      "Iteration: 226 and cost: 2865147605.618414\n"
     ]
    },
    {
     "name": "stdout",
     "output_type": "stream",
     "text": [
      "Iteration: 227 and cost: 2850998386.1370893\n",
      "Iteration: 228 and cost: 2837112194.3809876\n",
      "Iteration: 229 and cost: 2823483933.246866\n",
      "Iteration: 230 and cost: 2810108606.6541967\n",
      "Iteration: 231 and cost: 2796981317.51381\n",
      "Iteration: 232 and cost: 2784097265.7379103\n",
      "Iteration: 233 and cost: 2771451746.29061\n",
      "Iteration: 234 and cost: 2759040147.2781234\n",
      "Iteration: 235 and cost: 2746857948.0778456\n",
      "Iteration: 236 and cost: 2734900717.505465\n",
      "Iteration: 237 and cost: 2723164112.0193577\n",
      "Iteration: 238 and cost: 2711643873.9614835\n",
      "Iteration: 239 and cost: 2700335829.834021\n",
      "Iteration: 240 and cost: 2689235888.6110334\n",
      "Iteration: 241 and cost: 2678340040.0844073\n",
      "Iteration: 242 and cost: 2667644353.24338\n",
      "Iteration: 243 and cost: 2657144974.686974\n",
      "Iteration: 244 and cost: 2646838127.0686264\n",
      "Iteration: 245 and cost: 2636720107.572394\n",
      "Iteration: 246 and cost: 2626787286.420038\n",
      "Iteration: 247 and cost: 2617036105.408408\n",
      "Iteration: 248 and cost: 2607463076.476443\n",
      "Iteration: 249 and cost: 2598064780.3012342\n",
      "Iteration: 250 and cost: 2588837864.92252\n",
      "Iteration: 251 and cost: 2579779044.3950343\n",
      "Iteration: 252 and cost: 2570885097.46816\n",
      "Iteration: 253 and cost: 2562152866.292284\n",
      "Iteration: 254 and cost: 2553579255.1513553\n",
      "Iteration: 255 and cost: 2545161229.2210693\n",
      "Iteration: 256 and cost: 2536895813.352177\n",
      "Iteration: 257 and cost: 2528780090.8783937\n",
      "Iteration: 258 and cost: 2520811202.448406\n",
      "Iteration: 259 and cost: 2512986344.881492\n",
      "Iteration: 260 and cost: 2505302770.0462494\n",
      "Iteration: 261 and cost: 2497757783.761987\n",
      "Iteration: 262 and cost: 2490348744.7222986\n",
      "Iteration: 263 and cost: 2483073063.4403653\n",
      "Iteration: 264 and cost: 2475928201.215546\n",
      "Iteration: 265 and cost: 2468911669.1208334\n",
      "Iteration: 266 and cost: 2462021027.010729\n",
      "Iteration: 267 and cost: 2455253882.549119\n",
      "Iteration: 268 and cost: 2448607890.2567806\n",
      "Iteration: 269 and cost: 2442080750.578062\n",
      "Iteration: 270 and cost: 2435670208.966388\n",
      "Iteration: 271 and cost: 2429374054.988192\n",
      "Iteration: 272 and cost: 2423190121.444897\n",
      "Iteration: 273 and cost: 2417116283.512579\n",
      "Iteration: 274 and cost: 2411150457.898961\n",
      "Iteration: 275 and cost: 2405290602.017368\n",
      "Iteration: 276 and cost: 2399534713.177319\n",
      "Iteration: 277 and cost: 2393880827.7913885\n",
      "Iteration: 278 and cost: 2388327020.598047\n",
      "Iteration: 279 and cost: 2382871403.9001064\n",
      "Iteration: 280 and cost: 2377512126.8185043\n",
      "Iteration: 281 and cost: 2372247374.5610657\n",
      "Iteration: 282 and cost: 2367075367.7059803\n",
      "Iteration: 283 and cost: 2361994361.4996643\n",
      "Iteration: 284 and cost: 2357002645.168742\n",
      "Iteration: 285 and cost: 2352098541.2458296\n",
      "Iteration: 286 and cost: 2347280404.9088726\n",
      "Iteration: 287 and cost: 2342546623.3337383\n",
      "Iteration: 288 and cost: 2337895615.0598025\n",
      "Iteration: 289 and cost: 2333325829.368278\n",
      "Iteration: 290 and cost: 2328835745.673001\n",
      "Iteration: 291 and cost: 2324423872.9234447\n",
      "Iteration: 292 and cost: 2320088749.0197077\n",
      "Iteration: 293 and cost: 2315828940.239229\n",
      "Iteration: 294 and cost: 2311643040.674992\n",
      "Iteration: 295 and cost: 2307529671.6849914\n",
      "Iteration: 296 and cost: 2303487481.3527308\n",
      "Iteration: 297 and cost: 2299515143.9585276\n",
      "Iteration: 298 and cost: 2295611359.4614096\n",
      "Iteration: 299 and cost: 2291774852.991374\n",
      "Iteration: 300 and cost: 2288004374.351835\n",
      "Iteration: 301 and cost: 2284298697.532003\n",
      "Iteration: 302 and cost: 2280656620.229044\n",
      "Iteration: 303 and cost: 2277076963.379789\n",
      "Iteration: 304 and cost: 2273558570.7018085\n",
      "Iteration: 305 and cost: 2270100308.2436733\n",
      "Iteration: 306 and cost: 2266701063.9442024\n",
      "Iteration: 307 and cost: 2263359747.2005234\n",
      "Iteration: 308 and cost: 2260075288.4447656\n",
      "Iteration: 309 and cost: 2256846638.7292147\n",
      "Iteration: 310 and cost: 2253672769.3197455\n",
      "Iteration: 311 and cost: 2250552671.297394\n",
      "Iteration: 312 and cost: 2247485355.167867\n",
      "Iteration: 313 and cost: 2244469850.4788623\n",
      "Iteration: 314 and cost: 2241505205.4450164\n",
      "Iteration: 315 and cost: 2238590486.5803514\n",
      "Iteration: 316 and cost: 2235724778.3380404\n",
      "Iteration: 317 and cost: 2232907182.7573752\n",
      "Iteration: 318 and cost: 2230136819.1177626\n",
      "Iteration: 319 and cost: 2227412823.5996304\n",
      "Iteration: 320 and cost: 2224734348.952087\n",
      "Iteration: 321 and cost: 2222100564.1672125\n",
      "Iteration: 322 and cost: 2219510654.1608334\n",
      "Iteration: 323 and cost: 2216963819.4596634\n",
      "Iteration: 324 and cost: 2214459275.8946834\n",
      "Iteration: 325 and cost: 2211996254.3006086\n",
      "Iteration: 326 and cost: 2209574000.221364\n",
      "Iteration: 327 and cost: 2207191773.6214075\n",
      "Iteration: 328 and cost: 2204848848.6028104\n",
      "Iteration: 329 and cost: 2202544513.1279545\n",
      "Iteration: 330 and cost: 2200278068.7477627\n",
      "Iteration: 331 and cost: 2198048830.3353286\n",
      "Iteration: 332 and cost: 2195856125.8248405\n",
      "Iteration: 333 and cost: 2193699295.9557047\n",
      "Iteration: 334 and cost: 2191577694.0217505\n",
      "Iteration: 335 and cost: 2189490685.6254287\n",
      "Iteration: 336 and cost: 2187437648.436878\n",
      "Iteration: 337 and cost: 2185417971.9578023\n",
      "Iteration: 338 and cost: 2183431057.2900147\n",
      "Iteration: 339 and cost: 2181476316.9086003\n",
      "Iteration: 340 and cost: 2179553174.439567\n",
      "Iteration: 341 and cost: 2177661064.4419203\n",
      "Iteration: 342 and cost: 2175799432.1940594\n",
      "Iteration: 343 and cost: 2173967733.4844136\n",
      "Iteration: 344 and cost: 2172165434.4062343\n",
      "Iteration: 345 and cost: 2170392011.1564555\n",
      "Iteration: 346 and cost: 2168646949.8385487\n",
      "Iteration: 347 and cost: 2166929746.2692766\n",
      "Iteration: 348 and cost: 2165239905.7892857\n",
      "Iteration: 349 and cost: 2163576943.0774593\n",
      "Iteration: 350 and cost: 2161940381.9689326\n",
      "Iteration: 351 and cost: 2160329755.2767296\n",
      "Iteration: 352 and cost: 2158744604.616923\n",
      "Iteration: 353 and cost: 2157184480.237262\n",
      "Iteration: 354 and cost: 2155648940.849195\n",
      "Iteration: 355 and cost: 2154137553.4632096\n",
      "Iteration: 356 and cost: 2152649893.2274365\n",
      "Iteration: 357 and cost: 2151185543.2694526\n",
      "Iteration: 358 and cost: 2149744094.541205\n",
      "Iteration: 359 and cost: 2148325145.667005\n",
      "Iteration: 360 and cost: 2146928302.7945316\n",
      "Iteration: 361 and cost: 2145553179.4487765\n",
      "Iteration: 362 and cost: 2144199396.388881\n",
      "Iteration: 363 and cost: 2142866581.4677956\n",
      "Iteration: 364 and cost: 2141554369.494718\n",
      "Iteration: 365 and cost: 2140262402.10025\n",
      "Iteration: 366 and cost: 2138990327.6042068\n",
      "Iteration: 367 and cost: 2137737800.8860512\n",
      "Iteration: 368 and cost: 2136504483.2578773\n",
      "Iteration: 369 and cost: 2135290042.3399014\n",
      "Iteration: 370 and cost: 2134094151.9384074\n",
      "Iteration: 371 and cost: 2132916491.9261127\n",
      "Iteration: 372 and cost: 2131756748.124874\n",
      "Iteration: 373 and cost: 2130614612.1907265\n",
      "Iteration: 374 and cost: 2129489781.5011697\n",
      "Iteration: 375 and cost: 2128381959.0446966\n",
      "Iteration: 376 and cost: 2127290853.3124802\n",
      "Iteration: 377 and cost: 2126216178.1922035\n",
      "Iteration: 378 and cost: 2125157652.8639822\n",
      "Iteration: 379 and cost: 2124115001.6983275\n",
      "Iteration: 380 and cost: 2123087954.1561348\n",
      "Iteration: 381 and cost: 2122076244.6906202\n",
      "Iteration: 382 and cost: 2121079612.651204\n",
      "Iteration: 383 and cost: 2120097802.1892736\n",
      "Iteration: 384 and cost: 2119130562.1658094\n",
      "Iteration: 385 and cost: 2118177646.0608199\n",
      "Iteration: 386 and cost: 2117238811.8845584\n",
      "Iteration: 387 and cost: 2116313822.09049\n",
      "Iteration: 388 and cost: 2115402443.489964\n",
      "Iteration: 389 and cost: 2114504447.168558\n",
      "Iteration: 390 and cost: 2113619608.4040835\n",
      "Iteration: 391 and cost: 2112747706.5861764\n",
      "Iteration: 392 and cost: 2111888525.137485\n",
      "Iteration: 393 and cost: 2111041851.4363952\n",
      "Iteration: 394 and cost: 2110207476.7412794\n",
      "Iteration: 395 and cost: 2109385196.116221\n",
      "Iteration: 396 and cost: 2108574808.3582082\n",
      "Iteration: 397 and cost: 2107776115.925742\n",
      "Iteration: 398 and cost: 2106988924.868856\n",
      "Iteration: 399 and cost: 2106213044.760492\n"
     ]
    }
   ],
   "source": [
    "theta_g, J = gd.descent(X_norm, y, theta_g, alpha, num_iters)"
   ]
  },
  {
   "cell_type": "code",
   "execution_count": 20,
   "metadata": {},
   "outputs": [
    {
     "data": {
      "text/plain": [
       "weights           334302.063993\n",
       "House Area         99411.449474\n",
       "No of Bedrooms      3267.012854\n",
       "dtype: float64"
      ]
     },
     "execution_count": 20,
     "metadata": {},
     "output_type": "execute_result"
    }
   ],
   "source": [
    "theta_g"
   ]
  },
  {
   "cell_type": "markdown",
   "metadata": {},
   "source": [
    "### Predicting the house price"
   ]
  },
  {
   "cell_type": "code",
   "execution_count": 21,
   "metadata": {},
   "outputs": [],
   "source": [
    "# Step 5: lets estimate house price for a area of 1650 and 3 bedroom\n",
    "area_norm = (1650 - mean[0])/sigma[0]\n",
    "bed_norm = (3 - mean[1]) / sigma[1]\n",
    "test_norm = [1, area_norm, bed_norm]"
   ]
  },
  {
   "cell_type": "code",
   "execution_count": 22,
   "metadata": {},
   "outputs": [
    {
     "data": {
      "text/plain": [
       "289221.5473712181"
      ]
     },
     "execution_count": 22,
     "metadata": {},
     "output_type": "execute_result"
    }
   ],
   "source": [
    "predicted_price = np.array(test_norm).dot(theta_g)\n",
    "predicted_price"
   ]
  },
  {
   "cell_type": "markdown",
   "metadata": {},
   "source": [
    "The estimated house price is around 289k $"
   ]
  },
  {
   "cell_type": "markdown",
   "metadata": {},
   "source": [
    "### Comparison between Gradient descent and Normal equation"
   ]
  },
  {
   "cell_type": "code",
   "execution_count": 23,
   "metadata": {},
   "outputs": [
    {
     "name": "stdout",
     "output_type": "stream",
     "text": [
      "theta using Normal equation:  [89597.90954361   139.21067402 -8738.01911255]\n",
      "theta using Gradient descent: \n",
      " weights           334302.063993\n",
      "House Area         99411.449474\n",
      "No of Bedrooms      3267.012854\n",
      "dtype: float64\n"
     ]
    }
   ],
   "source": [
    "print('theta using Normal equation: ', theta)\n",
    "print('theta using Gradient descent: \\n', theta_g)"
   ]
  },
  {
   "cell_type": "code",
   "execution_count": 24,
   "metadata": {},
   "outputs": [
    {
     "name": "stdout",
     "output_type": "stream",
     "text": [
      "House price estimation using Normal equation:  293081.46433498873\n",
      "House price estimation using Gradient descent:  289221.5473712181\n"
     ]
    }
   ],
   "source": [
    "print('House price estimation using Normal equation: ', predicted_val)\n",
    "print('House price estimation using Gradient descent: ', predicted_price)"
   ]
  },
  {
   "cell_type": "code",
   "execution_count": null,
   "metadata": {},
   "outputs": [],
   "source": []
  }
 ],
 "metadata": {
  "kernelspec": {
   "display_name": "Python 3",
   "language": "python",
   "name": "python3"
  },
  "language_info": {
   "codemirror_mode": {
    "name": "ipython",
    "version": 3
   },
   "file_extension": ".py",
   "mimetype": "text/x-python",
   "name": "python",
   "nbconvert_exporter": "python",
   "pygments_lexer": "ipython3",
   "version": "3.7.6"
  }
 },
 "nbformat": 4,
 "nbformat_minor": 4
}
