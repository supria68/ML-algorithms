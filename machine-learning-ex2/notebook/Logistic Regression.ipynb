{
 "cells": [
  {
   "cell_type": "markdown",
   "metadata": {},
   "source": [
    "# Logistic Regression\n",
    "\n",
    "This notebook implements the second exercise from Andrew Ng’s Machine Learning Course on Coursera.\n",
    "\n",
    "## Binary Classification\n",
    "\n",
    "A logistic regression model will be implemented to predict whether a student gets admitted into a university. A binary classification model that estimates an applicant’s probability of admission based on the scores from those two exams will be built."
   ]
  },
  {
   "cell_type": "code",
   "execution_count": 1,
   "metadata": {},
   "outputs": [],
   "source": [
    "import numpy as np\n",
    "import pandas as pd\n",
    "import matplotlib.pyplot as plt\n",
    "import scipy.optimize as opt\n",
    "\n",
    "%matplotlib inline"
   ]
  },
  {
   "cell_type": "markdown",
   "metadata": {},
   "source": [
    "### Loading and Visualizing Dataset"
   ]
  },
  {
   "cell_type": "code",
   "execution_count": 2,
   "metadata": {},
   "outputs": [
    {
     "data": {
      "text/html": [
       "<div>\n",
       "<style scoped>\n",
       "    .dataframe tbody tr th:only-of-type {\n",
       "        vertical-align: middle;\n",
       "    }\n",
       "\n",
       "    .dataframe tbody tr th {\n",
       "        vertical-align: top;\n",
       "    }\n",
       "\n",
       "    .dataframe thead th {\n",
       "        text-align: right;\n",
       "    }\n",
       "</style>\n",
       "<table border=\"1\" class=\"dataframe\">\n",
       "  <thead>\n",
       "    <tr style=\"text-align: right;\">\n",
       "      <th></th>\n",
       "      <th>Exam1</th>\n",
       "      <th>Exam2</th>\n",
       "      <th>Admitted</th>\n",
       "    </tr>\n",
       "  </thead>\n",
       "  <tbody>\n",
       "    <tr>\n",
       "      <th>0</th>\n",
       "      <td>34.623660</td>\n",
       "      <td>78.024693</td>\n",
       "      <td>0</td>\n",
       "    </tr>\n",
       "    <tr>\n",
       "      <th>1</th>\n",
       "      <td>30.286711</td>\n",
       "      <td>43.894998</td>\n",
       "      <td>0</td>\n",
       "    </tr>\n",
       "    <tr>\n",
       "      <th>2</th>\n",
       "      <td>35.847409</td>\n",
       "      <td>72.902198</td>\n",
       "      <td>0</td>\n",
       "    </tr>\n",
       "  </tbody>\n",
       "</table>\n",
       "</div>"
      ],
      "text/plain": [
       "       Exam1      Exam2  Admitted\n",
       "0  34.623660  78.024693         0\n",
       "1  30.286711  43.894998         0\n",
       "2  35.847409  72.902198         0"
      ]
     },
     "execution_count": 2,
     "metadata": {},
     "output_type": "execute_result"
    }
   ],
   "source": [
    "data = pd.read_csv('Data/ex2data1.txt',sep = ',',header=None, names = ['Exam1','Exam2','Admitted'])\n",
    "\n",
    "data.head(3)"
   ]
  },
  {
   "cell_type": "code",
   "execution_count": 3,
   "metadata": {},
   "outputs": [
    {
     "data": {
      "text/plain": [
       "Text(0.5, 1.0, 'Dataset for Binary Classification')"
      ]
     },
     "execution_count": 3,
     "metadata": {},
     "output_type": "execute_result"
    },
    {
     "data": {
      "image/png": "[encoded data removed]",
      "text/plain": [
       "<Figure size 720x432 with 1 Axes>"
      ]
     },
     "metadata": {
      "needs_background": "light"
     },
     "output_type": "display_data"
    }
   ],
   "source": [
    "# Visualization\n",
    "\n",
    "pos = data[data['Admitted'].isin ([1])]\n",
    "neg = data[data['Admitted'].isin ([0])]\n",
    "fig, ax = plt.subplots(figsize = (10,6))\n",
    "ax.scatter(pos['Exam1'],pos['Exam2'], color = 'b', marker = 'o', label = 'Admitted')\n",
    "ax.scatter(neg['Exam1'],neg['Exam2'], color = 'r', marker = '+', label = 'Not Admitted')\n",
    "ax.legend(loc = 0)\n",
    "ax.set_xlabel('Exam 1 Score')\n",
    "ax.set_ylabel('Exam 2 Score')\n",
    "ax.set_title('Dataset for Binary Classification')"
   ]
  },
  {
   "cell_type": "markdown",
   "metadata": {},
   "source": [
    "### Compute Cost and Gradient\n",
    "\n",
    "Let's compute the sigmoid, cost and gradient function for Logistic Regression"
   ]
  },
  {
   "cell_type": "code",
   "execution_count": 4,
   "metadata": {},
   "outputs": [],
   "source": [
    "def sigmoid(z):\n",
    "    # This function returns the hypothesis\n",
    "    return 1.0/(1 + np.exp(-z))\n",
    "\n",
    "def costFunction(theta, X, y):\n",
    "    # This function should return J\n",
    "    theta = np.matrix(theta) # (1,3)\n",
    "    X = np.matrix(X) #(100,3)\n",
    "    y = np.matrix(y) #(100,1)\n",
    "      \n",
    "    term1 = np.multiply(-y , np.log(sigmoid(X * theta.T)))\n",
    "    term2 = np.multiply((1-y) , np.log(1 - sigmoid(X * theta.T))) \n",
    "    J = (np.sum(term1 - term2)) / len(X)\n",
    "    return J\n",
    "\n",
    "def gradient(theta, X, y):\n",
    "    # This function computes the single step!\n",
    "    theta = np.matrix(theta)\n",
    "    X = np.matrix(X)\n",
    "    y = np.matrix(y)\n",
    "\n",
    "    length = int(theta.shape[1])\n",
    "    grad = np.zeros(length)\n",
    "\n",
    "    error = sigmoid(X * theta.T) - y # (100,1)\n",
    "    \n",
    "    for i in range(length):\n",
    "        grad[i] = np.sum(np.multiply(error, X[:,i])) / len(X)\n",
    "\n",
    "    return grad"
   ]
  },
  {
   "cell_type": "code",
   "execution_count": 5,
   "metadata": {},
   "outputs": [],
   "source": [
    "# Set the features, target\n",
    "data.insert(0,'Ones',1)\n",
    "\n",
    "cols = data.shape[1]\n",
    "X = data.iloc[:,0:cols-1] # (100,3)\n",
    "y = data.iloc[:,cols-1:cols] # (100,1)"
   ]
  },
  {
   "cell_type": "code",
   "execution_count": 6,
   "metadata": {},
   "outputs": [
    {
     "name": "stdout",
     "output_type": "stream",
     "text": [
      "Cost at initial theta (zeros):  0.6931471805599453\n",
      "Expected cost (approx): 0.693\n"
     ]
    }
   ],
   "source": [
    "X = np.array(X.values)\n",
    "y = np.array(y.values)\n",
    "theta = np.zeros(3)\n",
    "\n",
    "# Let's test the cost function with theta = 0,0,0\n",
    "cost = costFunction(theta, X, y)\n",
    "print('Cost at initial theta (zeros): ', cost)\n",
    "print('Expected cost (approx): 0.693')"
   ]
  },
  {
   "cell_type": "markdown",
   "metadata": {},
   "source": [
    "### Minimizing Cost Function"
   ]
  },
  {
   "cell_type": "code",
   "execution_count": 7,
   "metadata": {},
   "outputs": [],
   "source": [
    "opt_theta = opt.fmin_tnc(func = costFunction, x0 = theta, fprime = gradient, args = (X,y))\n",
    "cost = costFunction(opt_theta[0], X, y)"
   ]
  },
  {
   "cell_type": "code",
   "execution_count": 8,
   "metadata": {},
   "outputs": [
    {
     "name": "stdout",
     "output_type": "stream",
     "text": [
      "Cost at theta found by fmin_tnc:  0.20349770158947458\n",
      "Expected cost :0.203\n"
     ]
    }
   ],
   "source": [
    "print('Cost at theta found by fmin_tnc: ', cost)\n",
    "print('Expected cost :0.203')"
   ]
  },
  {
   "cell_type": "markdown",
   "metadata": {},
   "source": [
    "The optimal theta at which the cost of binary classifier is minimized is given by opt_theta[0]!"
   ]
  },
  {
   "cell_type": "markdown",
   "metadata": {},
   "source": [
    "### Predictions and Evaluation"
   ]
  },
  {
   "cell_type": "code",
   "execution_count": 9,
   "metadata": {},
   "outputs": [],
   "source": [
    "def prediction(theta, X):\n",
    "    # Predict whether a student will be admitted or not.\n",
    "    m, n = X.shape\n",
    "    p = np.zeros(shape=(m, 1))\n",
    "    h = sigmoid(X.dot(theta.T))\n",
    "\n",
    "    for i in range(0, h.shape[0]):\n",
    "        if h[i] >= 0.5:\n",
    "            p[i, 0] = 1\n",
    "        else:\n",
    "            p[i, 0] = 0\n",
    "\n",
    "    return p"
   ]
  },
  {
   "cell_type": "code",
   "execution_count": 10,
   "metadata": {},
   "outputs": [
    {
     "name": "stdout",
     "output_type": "stream",
     "text": [
      "Training Accuracy for Binary Classifier : 89.0\n"
     ]
    }
   ],
   "source": [
    "predict = prediction(opt_theta[0],X)\n",
    "print('Training Accuracy for Binary Classifier : {}'. format((y[np.where(predict==y)].size / float(y.size))*100))"
   ]
  },
  {
   "cell_type": "markdown",
   "metadata": {},
   "source": [
    "## Regularized Logistic Regression\n",
    "\n",
    "A regularized logistic regression will be implemented to predict whether microchips from a fabrication plant passes quality assurance (QA). During QA, each microchip goes through various tests to ensure it is functioning correctly. A dataset of test results on past microchips will be used to build a logistic regression model. There are test results for some microchips on two different tests. From these two tests, it will be determined whether the microchips should be accepted or rejected."
   ]
  },
  {
   "cell_type": "markdown",
   "metadata": {},
   "source": [
    "### Loading and Visualizing Dataset"
   ]
  },
  {
   "cell_type": "code",
   "execution_count": 11,
   "metadata": {},
   "outputs": [],
   "source": [
    "data = pd.read_csv('Data/ex2data2.txt', sep = ',', header = None, names = ['Test1','Test2','Accept'])"
   ]
  },
  {
   "cell_type": "code",
   "execution_count": 12,
   "metadata": {},
   "outputs": [
    {
     "data": {
      "text/html": [
       "<div>\n",
       "<style scoped>\n",
       "    .dataframe tbody tr th:only-of-type {\n",
       "        vertical-align: middle;\n",
       "    }\n",
       "\n",
       "    .dataframe tbody tr th {\n",
       "        vertical-align: top;\n",
       "    }\n",
       "\n",
       "    .dataframe thead th {\n",
       "        text-align: right;\n",
       "    }\n",
       "</style>\n",
       "<table border=\"1\" class=\"dataframe\">\n",
       "  <thead>\n",
       "    <tr style=\"text-align: right;\">\n",
       "      <th></th>\n",
       "      <th>Test1</th>\n",
       "      <th>Test2</th>\n",
       "      <th>Accept</th>\n",
       "    </tr>\n",
       "  </thead>\n",
       "  <tbody>\n",
       "    <tr>\n",
       "      <th>0</th>\n",
       "      <td>0.051267</td>\n",
       "      <td>0.69956</td>\n",
       "      <td>1</td>\n",
       "    </tr>\n",
       "    <tr>\n",
       "      <th>1</th>\n",
       "      <td>-0.092742</td>\n",
       "      <td>0.68494</td>\n",
       "      <td>1</td>\n",
       "    </tr>\n",
       "    <tr>\n",
       "      <th>2</th>\n",
       "      <td>-0.213710</td>\n",
       "      <td>0.69225</td>\n",
       "      <td>1</td>\n",
       "    </tr>\n",
       "  </tbody>\n",
       "</table>\n",
       "</div>"
      ],
      "text/plain": [
       "      Test1    Test2  Accept\n",
       "0  0.051267  0.69956       1\n",
       "1 -0.092742  0.68494       1\n",
       "2 -0.213710  0.69225       1"
      ]
     },
     "execution_count": 12,
     "metadata": {},
     "output_type": "execute_result"
    }
   ],
   "source": [
    "data.head(3)"
   ]
  },
  {
   "cell_type": "code",
   "execution_count": 13,
   "metadata": {},
   "outputs": [
    {
     "data": {
      "text/plain": [
       "Text(0.5, 1.0, 'Logistic regularization dataset')"
      ]
     },
     "execution_count": 13,
     "metadata": {},
     "output_type": "execute_result"
    },
    {
     "data": {
      "image/png": "[encoded data removed]",
      "text/plain": [
       "<Figure size 720x360 with 1 Axes>"
      ]
     },
     "metadata": {
      "needs_background": "light"
     },
     "output_type": "display_data"
    }
   ],
   "source": [
    "# Visualizing\n",
    "\n",
    "pos = data[data['Accept'].isin ([1])]\n",
    "neg = data[data['Accept'].isin ([0])]\n",
    "\n",
    "fig, ax = plt.subplots(figsize = (10,5))\n",
    "ax.scatter(pos['Test1'],pos['Test2'], color = 'b', marker = 'o', label = 'Accepted')\n",
    "ax.scatter(neg['Test1'],neg['Test2'], color = 'r', marker = '+', label = 'Rejected')\n",
    "ax.legend(loc = 0)\n",
    "ax.set_xlabel('Test 1 Score')\n",
    "ax.set_ylabel('Test 2 Score')  \n",
    "ax.set_title('Logistic regularization dataset')"
   ]
  },
  {
   "cell_type": "markdown",
   "metadata": {},
   "source": [
    "From the plot, its difficult to get a linear decision boundary. We need to add more features (polynomial terms) to dataset to obtain the descent. To avoid overfitting, lets use regularization technique."
   ]
  },
  {
   "cell_type": "markdown",
   "metadata": {},
   "source": [
    "### Feature Mapping"
   ]
  },
  {
   "cell_type": "code",
   "execution_count": 14,
   "metadata": {},
   "outputs": [],
   "source": [
    "degree = 5\n",
    "x1 = data['Test1']\n",
    "x2 = data['Test2']\n",
    "\n",
    "data.insert(3,'Ones',1)\n",
    "\n",
    "for i in range(1,degree):\n",
    "    for j in range(i):\n",
    "        data['col' + str(i) + str(j)] = np.power(x1,i-j) * np.power(x2,j)\n",
    "\n",
    "# Now we have 14 columns of new features.\n",
    "data.drop(['Test1','Test2'], axis = 1, inplace = True)"
   ]
  },
  {
   "cell_type": "code",
   "execution_count": 15,
   "metadata": {},
   "outputs": [
    {
     "data": {
      "text/html": [
       "<div>\n",
       "<style scoped>\n",
       "    .dataframe tbody tr th:only-of-type {\n",
       "        vertical-align: middle;\n",
       "    }\n",
       "\n",
       "    .dataframe tbody tr th {\n",
       "        vertical-align: top;\n",
       "    }\n",
       "\n",
       "    .dataframe thead th {\n",
       "        text-align: right;\n",
       "    }\n",
       "</style>\n",
       "<table border=\"1\" class=\"dataframe\">\n",
       "  <thead>\n",
       "    <tr style=\"text-align: right;\">\n",
       "      <th></th>\n",
       "      <th>Accept</th>\n",
       "      <th>Ones</th>\n",
       "      <th>col10</th>\n",
       "      <th>col20</th>\n",
       "      <th>col21</th>\n",
       "      <th>col30</th>\n",
       "      <th>col31</th>\n",
       "      <th>col32</th>\n",
       "      <th>col40</th>\n",
       "      <th>col41</th>\n",
       "      <th>col42</th>\n",
       "      <th>col43</th>\n",
       "    </tr>\n",
       "  </thead>\n",
       "  <tbody>\n",
       "    <tr>\n",
       "      <th>0</th>\n",
       "      <td>1</td>\n",
       "      <td>1</td>\n",
       "      <td>0.051267</td>\n",
       "      <td>0.002628</td>\n",
       "      <td>0.035864</td>\n",
       "      <td>0.000135</td>\n",
       "      <td>0.001839</td>\n",
       "      <td>0.025089</td>\n",
       "      <td>0.000007</td>\n",
       "      <td>0.000094</td>\n",
       "      <td>0.001286</td>\n",
       "      <td>0.017551</td>\n",
       "    </tr>\n",
       "    <tr>\n",
       "      <th>1</th>\n",
       "      <td>1</td>\n",
       "      <td>1</td>\n",
       "      <td>-0.092742</td>\n",
       "      <td>0.008601</td>\n",
       "      <td>-0.063523</td>\n",
       "      <td>-0.000798</td>\n",
       "      <td>0.005891</td>\n",
       "      <td>-0.043509</td>\n",
       "      <td>0.000074</td>\n",
       "      <td>-0.000546</td>\n",
       "      <td>0.004035</td>\n",
       "      <td>-0.029801</td>\n",
       "    </tr>\n",
       "    <tr>\n",
       "      <th>2</th>\n",
       "      <td>1</td>\n",
       "      <td>1</td>\n",
       "      <td>-0.213710</td>\n",
       "      <td>0.045672</td>\n",
       "      <td>-0.147941</td>\n",
       "      <td>-0.009761</td>\n",
       "      <td>0.031616</td>\n",
       "      <td>-0.102412</td>\n",
       "      <td>0.002086</td>\n",
       "      <td>-0.006757</td>\n",
       "      <td>0.021886</td>\n",
       "      <td>-0.070895</td>\n",
       "    </tr>\n",
       "    <tr>\n",
       "      <th>3</th>\n",
       "      <td>1</td>\n",
       "      <td>1</td>\n",
       "      <td>-0.375000</td>\n",
       "      <td>0.140625</td>\n",
       "      <td>-0.188321</td>\n",
       "      <td>-0.052734</td>\n",
       "      <td>0.070620</td>\n",
       "      <td>-0.094573</td>\n",
       "      <td>0.019775</td>\n",
       "      <td>-0.026483</td>\n",
       "      <td>0.035465</td>\n",
       "      <td>-0.047494</td>\n",
       "    </tr>\n",
       "    <tr>\n",
       "      <th>4</th>\n",
       "      <td>1</td>\n",
       "      <td>1</td>\n",
       "      <td>-0.513250</td>\n",
       "      <td>0.263426</td>\n",
       "      <td>-0.238990</td>\n",
       "      <td>-0.135203</td>\n",
       "      <td>0.122661</td>\n",
       "      <td>-0.111283</td>\n",
       "      <td>0.069393</td>\n",
       "      <td>-0.062956</td>\n",
       "      <td>0.057116</td>\n",
       "      <td>-0.051818</td>\n",
       "    </tr>\n",
       "  </tbody>\n",
       "</table>\n",
       "</div>"
      ],
      "text/plain": [
       "   Accept  Ones     col10     col20     col21     col30     col31     col32  \\\n",
       "0       1     1  0.051267  0.002628  0.035864  0.000135  0.001839  0.025089   \n",
       "1       1     1 -0.092742  0.008601 -0.063523 -0.000798  0.005891 -0.043509   \n",
       "2       1     1 -0.213710  0.045672 -0.147941 -0.009761  0.031616 -0.102412   \n",
       "3       1     1 -0.375000  0.140625 -0.188321 -0.052734  0.070620 -0.094573   \n",
       "4       1     1 -0.513250  0.263426 -0.238990 -0.135203  0.122661 -0.111283   \n",
       "\n",
       "      col40     col41     col42     col43  \n",
       "0  0.000007  0.000094  0.001286  0.017551  \n",
       "1  0.000074 -0.000546  0.004035 -0.029801  \n",
       "2  0.002086 -0.006757  0.021886 -0.070895  \n",
       "3  0.019775 -0.026483  0.035465 -0.047494  \n",
       "4  0.069393 -0.062956  0.057116 -0.051818  "
      ]
     },
     "execution_count": 15,
     "metadata": {},
     "output_type": "execute_result"
    }
   ],
   "source": [
    "data[:5]"
   ]
  },
  {
   "cell_type": "markdown",
   "metadata": {},
   "source": [
    "### Implementing Regularized Cost Function"
   ]
  },
  {
   "cell_type": "code",
   "execution_count": 16,
   "metadata": {},
   "outputs": [],
   "source": [
    "def costFunctionReg(theta, X, y, regParam):\n",
    "    # This function computes cost by maintaining tradeoff between decision boundary fit for\n",
    "    # dataset and reducing magnitudes of theta\n",
    "    theta = np.matrix(theta)\n",
    "    X = np.matrix(X)\n",
    "    y = np.matrix(y)\n",
    "    \n",
    "    term1 = np.multiply(-y, np.log(sigmoid(X * theta.T)))\n",
    "    term2 = np.multiply((1 - y), np.log(1- sigmoid(X * theta.T)))\n",
    "    regTerm = (regParam / 2 *len(X)) * np.sum(np.power(theta[:,1:theta.shape[1]],2))\n",
    "    J = np.sum(term1 - term2) / (len(X)) + regTerm\n",
    "    return J\n",
    "\n",
    "def gradientReg(theta, X, y, regParam):\n",
    "    # This function computes the single step with a regularization parameter\n",
    "    # \"lambda or regParam\"\n",
    "    theta = np.matrix(theta)\n",
    "    X = np.matrix(X)\n",
    "    y = np.matrix(y)\n",
    "\n",
    "    length = int(theta.shape[1])\n",
    "    grad = np.zeros(length)\n",
    "\n",
    "    error = sigmoid(X * theta.T) - y \n",
    "    \n",
    "    for i in range(length):\n",
    "        val = np.multiply(error, X[:,i])\n",
    "        \n",
    "        if i == 0:\n",
    "            grad[i] = np.sum(val) / len(X) # find only for theta = 1,2,3..n\n",
    "        else:\n",
    "            grad[i] = (np.sum(val) / len(X)) + ((regParam / len(X)) * theta[:,i])\n",
    "\n",
    "    return grad"
   ]
  },
  {
   "cell_type": "code",
   "execution_count": 17,
   "metadata": {},
   "outputs": [],
   "source": [
    "# set features and target\n",
    "X = data.iloc[:, 1:data.shape[1]]\n",
    "y = data.iloc[:, 0:1]\n",
    "\n",
    "X = np.array(X.values)\n",
    "y = np.array(y.values)\n",
    "theta = np.zeros(X.shape[1])"
   ]
  },
  {
   "cell_type": "code",
   "execution_count": 18,
   "metadata": {},
   "outputs": [
    {
     "name": "stdout",
     "output_type": "stream",
     "text": [
      "Cost at initial theta (zeros) : 0.6931471805599454\n",
      "Expected Cost (approx) is 0.693 \n",
      "\n"
     ]
    }
   ],
   "source": [
    "# Cost function Evaluation\n",
    "\n",
    "regParam = 1 \n",
    "cost = costFunctionReg(theta, X, y, regParam)\n",
    "print('Cost at initial theta (zeros) : {}'.format(cost))\n",
    "print('Expected Cost (approx) is 0.693 \\n')"
   ]
  },
  {
   "cell_type": "code",
   "execution_count": 19,
   "metadata": {},
   "outputs": [
    {
     "name": "stdout",
     "output_type": "stream",
     "text": [
      "Gradient at initial theta (zeros) - first five values : [0.00847458 0.01878809 0.05034464 0.01150133 0.01835599]\n"
     ]
    }
   ],
   "source": [
    "# Gradient Evaluation\n",
    "\n",
    "grad = gradientReg(theta, X, y, regParam)\n",
    "print('Gradient at initial theta (zeros) - first five values : {}'.format(grad[:5]))"
   ]
  },
  {
   "cell_type": "markdown",
   "metadata": {},
   "source": [
    "### Regularization and Accurarcy\n",
    "\n",
    "Let's minimize the regularized cost function and predict the accuracy of the trained model"
   ]
  },
  {
   "cell_type": "code",
   "execution_count": 20,
   "metadata": {},
   "outputs": [
    {
     "name": "stdout",
     "output_type": "stream",
     "text": [
      "Minimum theta values: [ 1.22702519e-04  7.19894617e-05 -3.74156201e-04 -1.44256427e-04\n",
      "  2.93165088e-05 -5.64160786e-05 -1.02826485e-04 -2.83150432e-04\n",
      "  6.47297947e-07 -1.99697568e-04 -1.68479583e-05]\n"
     ]
    }
   ],
   "source": [
    "# Minimizing cost\n",
    "\n",
    "result = opt.fmin_tnc(func = costFunctionReg, x0 = theta, fprime = gradientReg, args = (X, y, regParam))\n",
    "print('Minimum theta values: {}'.format(result[0]))"
   ]
  },
  {
   "cell_type": "code",
   "execution_count": 21,
   "metadata": {},
   "outputs": [],
   "source": [
    "# Lets predict for this optimized theta\n",
    "\n",
    "theta_min = result[0]\n",
    "predictions = prediction(theta_min, X)"
   ]
  },
  {
   "cell_type": "code",
   "execution_count": 22,
   "metadata": {},
   "outputs": [
    {
     "name": "stdout",
     "output_type": "stream",
     "text": [
      "Predicting accuracy is 65.2542372881356 %\n"
     ]
    }
   ],
   "source": [
    "from sklearn import metrics\n",
    "print('Predicting accuracy is {} %'.format(metrics.accuracy_score(predictions,y)*100))"
   ]
  },
  {
   "cell_type": "code",
   "execution_count": null,
   "metadata": {},
   "outputs": [],
   "source": []
  }
 ],
 "metadata": {
  "kernelspec": {
   "display_name": "Python 3",
   "language": "python",
   "name": "python3"
  },
  "language_info": {
   "codemirror_mode": {
    "name": "ipython",
    "version": 3
   },
   "file_extension": ".py",
   "mimetype": "text/x-python",
   "name": "python",
   "nbconvert_exporter": "python",
   "pygments_lexer": "ipython3",
   "version": "3.7.6"
  }
 },
 "nbformat": 4,
 "nbformat_minor": 4
}
