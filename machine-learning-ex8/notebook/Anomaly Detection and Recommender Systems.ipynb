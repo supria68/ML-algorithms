{
 "cells": [
  {
   "cell_type": "markdown",
   "metadata": {},
   "source": [
    "# Anomaly Detection and Recommender Systems\n",
    "\n",
    "This notebook implements the eighth exercise from Andrew Ng’s Machine Learning Course on Coursera.\n",
    "\n",
    "## Anomaly Detection\n",
    "\n",
    "An anomaly detection algorithm will be implemented to detect anomalous behavior in server computers. The features measure the throughput (mb/s) and latency (ms) of response of each server. While the servers were operating, m=307 examples of how they were behaving were collected, and thus having an unlabeled dataset {x(1),…,x(m)}. It is suspected that the vast majority of these examples are “normal” (non-anomalous) examples of the servers operating normally, but there might also be some examples of servers acting anomalously within this dataset.\n",
    "\n",
    "A Gaussian model will be used to detect anomalous examples in the dataset. First, a 2D dataset will allow to visualize what the algorithm is doing. On that dataset a Gaussian distribution will be fitted in order to find values that have very low probability and hence can be considered anomalies."
   ]
  },
  {
   "cell_type": "code",
   "execution_count": 1,
   "metadata": {},
   "outputs": [],
   "source": [
    "import numpy as np\n",
    "from scipy.io import loadmat\n",
    "import matplotlib.pyplot as plt"
   ]
  },
  {
   "cell_type": "markdown",
   "metadata": {},
   "source": [
    "### Loading the Dataset"
   ]
  },
  {
   "cell_type": "code",
   "execution_count": 2,
   "metadata": {},
   "outputs": [],
   "source": [
    "data = loadmat('Data/ex8data1.mat')\n",
    "X = data[\"X\"]\n",
    "Xval = data[\"Xval\"]\n",
    "yval = data[\"yval\"]"
   ]
  },
  {
   "cell_type": "code",
   "execution_count": 3,
   "metadata": {},
   "outputs": [
    {
     "data": {
      "text/plain": [
       "((307, 2), (307, 2), (307, 1))"
      ]
     },
     "execution_count": 3,
     "metadata": {},
     "output_type": "execute_result"
    }
   ],
   "source": [
    "X.shape, Xval.shape, yval.shape"
   ]
  },
  {
   "cell_type": "markdown",
   "metadata": {},
   "source": [
    "### Visualizing the Dataset"
   ]
  },
  {
   "cell_type": "code",
   "execution_count": 4,
   "metadata": {},
   "outputs": [
    {
     "data": {
      "text/plain": [
       "Text(0, 0.5, 'Throughput mbps')"
      ]
     },
     "execution_count": 4,
     "metadata": {},
     "output_type": "execute_result"
    },
    {
     "data": {
      "image/png": "[encoded data removed]",
      "text/plain": [
       "<Figure size 720x432 with 1 Axes>"
      ]
     },
     "metadata": {
      "needs_background": "light"
     },
     "output_type": "display_data"
    }
   ],
   "source": [
    "plt.figure(figsize = (10,6))\n",
    "plt.scatter(X[:,0], X[:,1])\n",
    "plt.xlabel('Latency in m/s')\n",
    "plt.ylabel('Throughput mbps')"
   ]
  },
  {
   "cell_type": "markdown",
   "metadata": {},
   "source": [
    "Clearly we have some outliers. Let's see if the gaussian model can get these anomalies!"
   ]
  },
  {
   "cell_type": "markdown",
   "metadata": {},
   "source": [
    "### Estimating Parameters for a Gaussian model\n",
    "\n",
    "Let's estimate the mean and variance of the dataset before finding out the features that have low probability(posibly anomalies). The next step is to implement a gaussian distribution function to find the probability with the mean and variance from previous step. "
   ]
  },
  {
   "cell_type": "code",
   "execution_count": 5,
   "metadata": {},
   "outputs": [],
   "source": [
    "def estimateGaussian(X):\n",
    "    \"\"\"\n",
    "    Estimates the parameters (mean, variance) of a\n",
    "    Gaussian distribution using the data in X.\n",
    "    Input:\n",
    "        X     : array(# of training examples m, # of features n)\n",
    "    Output:\n",
    "        mu    : array(# of features n, 1)\n",
    "        sigma : array(# of features n, 1)\n",
    "    \"\"\"\n",
    "   \n",
    "    m, n = X.shape\n",
    "    \n",
    "    # Init mu and sigma.\n",
    "    mu = np.zeros((n, 1))\n",
    "    sigma = np.zeros((n, 1))\n",
    "    \n",
    "    mu = np.mean(X.T, axis = 1)\n",
    "    mu = mu.reshape(mu.shape[0], -1) # n * 1\n",
    "    sigma = np.var(X.T, axis = 1)\n",
    "    sigma = sigma.reshape(sigma.shape[0], -1) # n * 1\n",
    "\n",
    "    return mu, sigma\n",
    "\n",
    "from scipy import stats\n",
    "def gaussianDistribution(X, mu, Sigma):\n",
    "    \"\"\"\n",
    "    calculate the probability that a data point belongs to a \n",
    "    normal distribution given some set of parameters.\n",
    "    \"\"\"\n",
    "    p = np.zeros((X.shape[0], X.shape[1]))\n",
    "    \n",
    "    for i in range(X.shape[1]):\n",
    "        p[:,i] = stats.norm(mu[i], sigma[i]).pdf(X[:,i])\n",
    "    return p"
   ]
  },
  {
   "cell_type": "markdown",
   "metadata": {},
   "source": [
    "### Selecting the Threshold, epsilon\n",
    "\n",
    "Now that the Gaussian parameters have been implemented, it can be investigated which examples have a very high probability given this distribution and which examples have a very low probability. The low probability examples are more likely to be the anomalies in the dataset. One way to determine which examples are anomalies is to select a threshold based on a cross validation set. An algorithm will be implemented to select the threshold ε using the F1 score on a cross validation set."
   ]
  },
  {
   "cell_type": "code",
   "execution_count": 6,
   "metadata": {},
   "outputs": [],
   "source": [
    "def selectThreshold(yval, pval):\n",
    "    \"\"\"\n",
    "    Finds the best threshold to use for selecting outliers\n",
    "    based on the results from a validation set (pval) and\n",
    "    the ground truth (yval).\n",
    "    \"\"\"\n",
    "    # Init values.\n",
    "    bestEpsilon = 0\n",
    "    bestF1 = 0\n",
    "    F1 = 0\n",
    "\n",
    "    stepsize = (pval.max() - pval.min()) / 1000\n",
    "    \n",
    "    for epsilon in np.arange(pval.min(), pval.max(), stepsize):\n",
    "        predictions = pval < epsilon\n",
    "        \n",
    "        tp = np.sum(np.logical_and(predictions == 1, yval == 1)).astype(float) # true positives\n",
    "        fp = np.sum(np.logical_and(predictions == 1, yval == 0)).astype(float) # false positives\n",
    "        fn = np.sum(np.logical_and(predictions == 0, yval == 1)).astype(float) # false negatives\n",
    "        \n",
    "        prec = tp / (tp + fp) # precision\n",
    "        rec = tp / (tp + fn) # recall\n",
    "        F1 = (2 * prec * rec) / (prec + rec) # F1 score\n",
    "        \n",
    "        if F1 > bestF1:\n",
    "            bestF1 = F1\n",
    "            bestEpsilon = epsilon\n",
    "\n",
    "    return bestEpsilon, bestF1"
   ]
  },
  {
   "cell_type": "markdown",
   "metadata": {},
   "source": [
    "### Training and Evaluating Model\n",
    "\n",
    "Now that the algorithm is implemented, lets apply the same on the dataset and check if anomalies are detected"
   ]
  },
  {
   "cell_type": "code",
   "execution_count": 7,
   "metadata": {},
   "outputs": [
    {
     "data": {
      "text/plain": [
       "((2, 1), (2, 1))"
      ]
     },
     "execution_count": 7,
     "metadata": {},
     "output_type": "execute_result"
    }
   ],
   "source": [
    "# Estimate the parameters\n",
    "mu, sigma = estimateGaussian(X)\n",
    "\n",
    "mu.shape, sigma.shape"
   ]
  },
  {
   "cell_type": "code",
   "execution_count": 8,
   "metadata": {},
   "outputs": [
    {
     "data": {
      "text/plain": [
       "(307, 2)"
      ]
     },
     "execution_count": 8,
     "metadata": {},
     "output_type": "execute_result"
    }
   ],
   "source": [
    "# Training set. \n",
    "p = gaussianDistribution(X, mu, sigma)\n",
    "\n",
    "p.shape"
   ]
  },
  {
   "cell_type": "code",
   "execution_count": 9,
   "metadata": {},
   "outputs": [
    {
     "data": {
      "text/plain": [
       "(307, 2)"
      ]
     },
     "execution_count": 9,
     "metadata": {},
     "output_type": "execute_result"
    }
   ],
   "source": [
    "# Cross-validation set.\n",
    "pval = gaussianDistribution(Xval, mu, sigma)\n",
    "\n",
    "pval.shape"
   ]
  },
  {
   "cell_type": "code",
   "execution_count": 10,
   "metadata": {},
   "outputs": [
    {
     "name": "stdout",
     "output_type": "stream",
     "text": [
      "Best epsilon found using cross-validation: 0.009566706005956842\n",
      "Best F1 on Cross Validation Set: 0.7142857142857143\n"
     ]
    },
    {
     "name": "stderr",
     "output_type": "stream",
     "text": [
      "/home/supriya/anaconda3/lib/python3.7/site-packages/ipykernel_launcher.py:21: RuntimeWarning: invalid value encountered in double_scalars\n"
     ]
    }
   ],
   "source": [
    "# Find the best threshold.\n",
    "epsilon, F1 = selectThreshold(yval, pval)\n",
    "\n",
    "print('Best epsilon found using cross-validation: {}'.format(epsilon))\n",
    "print('Best F1 on Cross Validation Set: {}'.format(F1))"
   ]
  },
  {
   "cell_type": "markdown",
   "metadata": {},
   "source": [
    "Finally, we can apply the threshold to the data set and visualize the results."
   ]
  },
  {
   "cell_type": "code",
   "execution_count": 11,
   "metadata": {},
   "outputs": [
    {
     "data": {
      "text/plain": [
       "Text(0, 0.5, 'Throughput mbps')"
      ]
     },
     "execution_count": 11,
     "metadata": {},
     "output_type": "execute_result"
    },
    {
     "data": {
      "image/png": "[encoded data removed]",
      "text/plain": [
       "<Figure size 720x432 with 1 Axes>"
      ]
     },
     "metadata": {
      "needs_background": "light"
     },
     "output_type": "display_data"
    }
   ],
   "source": [
    "# indexes of the values considered to be outliers\n",
    "outliers = np.where(p < epsilon)\n",
    "\n",
    "plt.figure(figsize = (10,6))\n",
    "plt.scatter(X[:,0], X[:,1])\n",
    "plt.scatter(X[outliers[0],0], X[outliers[0],1], s=50, color='r', marker='o')\n",
    "\n",
    "plt.xlabel('Latency in m/s')\n",
    "plt.ylabel('Throughput mbps')"
   ]
  },
  {
   "cell_type": "markdown",
   "metadata": {},
   "source": [
    "The points in red are the ones that were flagged as outliers. Visually these seem pretty reasonable. "
   ]
  },
  {
   "cell_type": "code",
   "execution_count": 12,
   "metadata": {},
   "outputs": [
    {
     "name": "stdout",
     "output_type": "stream",
     "text": [
      "# Outliers found: 5\n"
     ]
    }
   ],
   "source": [
    "print('# Outliers found: {}'.format(np.sum(outliers[1]) + 1)) #index starts from 0!"
   ]
  },
  {
   "cell_type": "markdown",
   "metadata": {},
   "source": [
    "## Recommender System\n",
    "\n",
    "Part-2 of the exercise involves building a recommender system using collaberative filtering algorithm to a dataset of movie ratings."
   ]
  },
  {
   "cell_type": "markdown",
   "metadata": {},
   "source": [
    "### Movie Ratings Dataset\n",
    "\n",
    "The dataset consists of ratings on a scale of 1 to 5. It has 943 users and 1682 movies. The variable Y (num_movies x num_users matrix) stores the ratings y(i,j) (from 1 to 5). The variable R is a binary-valued indicator matrix, where R(i,j)=1 if user j gave a rating to movie i, and R(i,j)=0 otherwise.  \n",
    "  \n",
    "The objective of collaborative filtering is to predict movie ratings for the movies that users have not yet rated, that is, the entries with R(i,j)=0. This will allow to recommend the movies with the highest predicted ratings to the user."
   ]
  },
  {
   "cell_type": "code",
   "execution_count": 13,
   "metadata": {},
   "outputs": [],
   "source": [
    "movie_data = loadmat('Data/ex8_movies.mat')"
   ]
  },
  {
   "cell_type": "code",
   "execution_count": 14,
   "metadata": {},
   "outputs": [
    {
     "data": {
      "text/plain": [
       "((1682, 943), (1682, 943))"
      ]
     },
     "execution_count": 14,
     "metadata": {},
     "output_type": "execute_result"
    }
   ],
   "source": [
    "Y = movie_data['Y']\n",
    "R = movie_data['R']\n",
    "\n",
    "Y.shape, R.shape"
   ]
  },
  {
   "cell_type": "markdown",
   "metadata": {},
   "source": [
    "### Collaberative filtering algorithm implementation"
   ]
  },
  {
   "cell_type": "code",
   "execution_count": 15,
   "metadata": {},
   "outputs": [],
   "source": [
    "def cofiCostFunction(params, Y, R, num_features, lambda_coef):\n",
    "    \"\"\"\n",
    "    Returns the cost and gradient for\n",
    "    the collaborative filtering problem.\n",
    "    Input:\n",
    "        params      : array(num_movies x num_features + num_users x num_features)\n",
    "        Y           : array(num_movies, num_users)\n",
    "        R           : array(num_movies, num_users)\n",
    "        num_features: int\n",
    "        lambda_coef : float\n",
    "    Output:\n",
    "        J           : float\n",
    "        grad        : array(num_movies x num_features + num_users x num_features)\n",
    "    \"\"\"\n",
    "    \n",
    "    num_users = Y.shape[1]\n",
    "    num_movies = Y.shape[0]\n",
    "    \n",
    "    # Unfold X and theta from Params\n",
    "    X = params[:num_movies * num_features].reshape(num_movies, num_features)\n",
    "    theta = params[num_movies * num_features:].reshape(num_users, num_features)\n",
    "    \n",
    "    # Init values\n",
    "    J = 0\n",
    "    X_grad = np.zeros(X.shape)\n",
    "    theta_grad = np.zeros(theta.shape)\n",
    "    \n",
    "    # regularization terms\n",
    "    reg_term = (lambda_coef / 2) * (np.sum(np.square(theta)) + np.sum(np.square(X)))\n",
    "    \n",
    "    # error\n",
    "    error = np.dot(X, theta.T) - Y\n",
    "    sq_error = np.square(error)\n",
    "    \n",
    "    # Cost\n",
    "    J = (1 / 2) * np.sum(sq_error * R) + reg_term\n",
    "    \n",
    "    # gradients\n",
    "    X_grad = np.dot(error * R, theta) + lambda_coef * X\n",
    "    theta_grad = np.dot((error * R).T, X) + lambda_coef * theta\n",
    "    \n",
    "    grad = np.concatenate((np.ravel(X_grad), np.ravel(theta_grad)))\n",
    "    \n",
    "    return J, grad"
   ]
  },
  {
   "cell_type": "markdown",
   "metadata": {},
   "source": [
    "### Movie Recommendations\n",
    "\n",
    "Create your own movie ratings so you can use the model to generate personalized recommendations. The file 'movie_ids.txt' contains list of all movies and their number(id) mapped to the 'movie_data' dataset. Assign your own ratings for some of the movies which you would have watched to this dataset. Check the file movie_idx.txt for id of each movie in the dataset.   \n",
    "For example, Toy Story (1995) has ID 0. so to rate it \"4\", set: my_ratings[0] = 4."
   ]
  },
  {
   "cell_type": "code",
   "execution_count": 16,
   "metadata": {},
   "outputs": [],
   "source": [
    "# read the text file and move the contents to a list\n",
    "\n",
    "def loadMovieList():\n",
    "    \n",
    "    # Read the fixed movie list.\n",
    "    with open('Data/movie_ids.txt', encoding = \"ISO-8859-1\") as f:\n",
    "        movieList = []\n",
    "        for line in f:\n",
    "            movieName = line.split()[1:]\n",
    "            movieList.append(\" \".join(movieName))\n",
    "\n",
    "    return movieList"
   ]
  },
  {
   "cell_type": "code",
   "execution_count": 17,
   "metadata": {},
   "outputs": [
    {
     "name": "stdout",
     "output_type": "stream",
     "text": [
      "My ratings:\n",
      "\n",
      "Rated 5.0 for Shawshank Redemption, The (1994)\n",
      "Rated 4.0 for Jurassic Park (1993)\n",
      "Rated 5.0 for Home Alone (1990)\n",
      "Rated 4.0 for Rock, The (1996)\n",
      "Rated 4.0 for Striptease (1996)\n",
      "Rated 3.0 for Independence Day (ID4) (1996)\n",
      "Rated 5.0 for Die Hard (1988)\n",
      "Rated 3.0 for Air Force One (1997)\n",
      "Rated 4.0 for Schindler's List (1993)\n",
      "Rated 2.0 for Waterworld (1995)\n",
      "Rated 1.0 for What's Love Got to Do with It (1993)\n",
      "Rated 2.0 for Man of the House (1995)\n",
      "Rated 1.0 for A Chef in Love (1996)\n"
     ]
    }
   ],
   "source": [
    "movieList = loadMovieList()\n",
    "\n",
    "# Initialize ratings.\n",
    "my_ratings = np.zeros((1682, 1))\n",
    "\n",
    "# Add your ratings \n",
    "my_ratings[63] = 5\n",
    "my_ratings[81] = 4\n",
    "my_ratings[93] = 5\n",
    "my_ratings[116] = 4\n",
    "my_ratings[120] = 3\n",
    "my_ratings[143] = 5\n",
    "my_ratings[119] = 4\n",
    "my_ratings[299] = 3\n",
    "my_ratings[317] = 4\n",
    "my_ratings[553] = 2\n",
    "my_ratings[941] = 1\n",
    "my_ratings[1178] = 2\n",
    "my_ratings[1250] = 1\n",
    "\n",
    "print('My ratings:\\n')\n",
    "for i, rating in enumerate(my_ratings):\n",
    "    if rating > 0: \n",
    "        print('Rated {} for {}'.format(rating[0], movieList[i]))"
   ]
  },
  {
   "cell_type": "markdown",
   "metadata": {},
   "source": [
    "### Recommender System learning\n",
    "\n",
    "Let's train the collaborative filtering model. First, we need to normalize the ratings(Y) and then run the optimization routine using our cost function 'cofiCostFunction', parameter vector (X, theta) at input."
   ]
  },
  {
   "cell_type": "code",
   "execution_count": 18,
   "metadata": {},
   "outputs": [],
   "source": [
    "from scipy.optimize import minimize"
   ]
  },
  {
   "cell_type": "code",
   "execution_count": 19,
   "metadata": {},
   "outputs": [],
   "source": [
    "#Add my ratings to the data matrix.\n",
    "Y = np.append(Y, my_ratings, axis = 1)\n",
    "R = np.append(R, my_ratings != 0, axis = 1)\n",
    "\n",
    "# Get useful values.\n",
    "num_users = Y.shape[1]\n",
    "num_movies = Y.shape[0]\n",
    "num_features = 10\n",
    "\n",
    "# Let's normalize\n",
    "Ymean = np.zeros((num_movies, 1))\n",
    "Ynorm = np.zeros((num_movies, num_users))\n",
    "\n",
    "for i in range(num_movies):\n",
    "    idx = np.where(R[i,:] == 1)[0]\n",
    "    Ymean[i] = Y[i,idx].mean()\n",
    "    Ynorm[i,idx] = Y[i,idx] - Ymean[i]"
   ]
  },
  {
   "cell_type": "code",
   "execution_count": 20,
   "metadata": {},
   "outputs": [
    {
     "data": {
      "text/plain": [
       "     fun: 38957.70140788267\n",
       "     jac: array([-0.09856893,  0.01801755, -0.00463038, ..., -0.00659441,\n",
       "        0.00530204,  0.00093459])\n",
       " message: 'Maximum number of iterations has been exceeded.'\n",
       "    nfev: 149\n",
       "     nit: 100\n",
       "    njev: 149\n",
       "  status: 1\n",
       " success: False\n",
       "       x: array([ 1.16705865, -0.0251449 ,  0.09196431, ..., -0.13119354,\n",
       "       -0.00307313, -0.0476326 ])"
      ]
     },
     "execution_count": 20,
     "metadata": {},
     "output_type": "execute_result"
    }
   ],
   "source": [
    "# Set initial parameters (Theta, X).\n",
    "X = np.random.randn(num_movies, num_features)\n",
    "theta = np.random.randn(num_users, num_features)\n",
    "\n",
    "initial_params = np.concatenate((np.ravel(X), np.ravel(theta)))\n",
    "\n",
    "# Set regularization.\n",
    "lambda_coef = 10\n",
    "\n",
    "# Optimize.\n",
    "fmin = minimize(fun = cofiCostFunction, x0 = initial_params, args = (Ynorm, R, num_features, lambda_coef), method='CG', jac=True, options={'maxiter': 100})\n",
    "fmin"
   ]
  },
  {
   "cell_type": "markdown",
   "metadata": {},
   "source": [
    "Since everything was unrolled for the optimization routine to work properly, we need to reshape our parameters back to their original dimensions."
   ]
  },
  {
   "cell_type": "code",
   "execution_count": 21,
   "metadata": {},
   "outputs": [
    {
     "data": {
      "text/plain": [
       "((1682, 10), (944, 10))"
      ]
     },
     "execution_count": 21,
     "metadata": {},
     "output_type": "execute_result"
    }
   ],
   "source": [
    "result = fmin.x\n",
    "\n",
    "X = result[:num_movies * num_features].reshape(num_movies, num_features)\n",
    "theta = result[num_movies * num_features:].reshape(num_users, num_features)\n",
    "\n",
    "X.shape, theta.shape"
   ]
  },
  {
   "cell_type": "markdown",
   "metadata": {},
   "source": [
    "### Recommendations for me\n",
    "\n",
    "Our trained parameters are now in X and theta. We can use these to create some movie recommendations based on my_ratings."
   ]
  },
  {
   "cell_type": "code",
   "execution_count": 22,
   "metadata": {},
   "outputs": [
    {
     "data": {
      "text/plain": [
       "array([3.7219158 , 3.20061611, 3.06775999, ..., 1.99999843, 2.99999771,\n",
       "       3.0000022 ])"
      ]
     },
     "execution_count": 22,
     "metadata": {},
     "output_type": "execute_result"
    }
   ],
   "source": [
    "# get the predictions\n",
    "\n",
    "pred = np.dot(X, theta.T)\n",
    "\n",
    "my_predictions = pred[:, -1] + Ymean.flatten() # choose a single column\n",
    "my_predictions"
   ]
  },
  {
   "cell_type": "code",
   "execution_count": 23,
   "metadata": {},
   "outputs": [
    {
     "data": {
      "text/plain": [
       "((1682, 944), (1682,))"
      ]
     },
     "execution_count": 23,
     "metadata": {},
     "output_type": "execute_result"
    }
   ],
   "source": [
    "pred.shape, my_predictions.shape"
   ]
  },
  {
   "cell_type": "markdown",
   "metadata": {},
   "source": [
    "That gives us an ordered list of the top ratings, but we don't know the movies for which the ratings are predicted. Let's use argsort to get the locations(movies to which predicted rating corresponds to) at these indicies."
   ]
  },
  {
   "cell_type": "code",
   "execution_count": 24,
   "metadata": {},
   "outputs": [
    {
     "name": "stdout",
     "output_type": "stream",
     "text": [
      "Top 10 movie predictions:\n",
      "Predicted rating of 5.000009543830491 for movie Entertaining Angels: The Dorothy Day Story (1996)\n",
      "Predicted rating of 5.000004997116824 for movie Prefontaine (1997)\n",
      "Predicted rating of 5.000003033924966 for movie Star Kid (1997)\n",
      "Predicted rating of 5.0000011043866746 for movie Santa with Muscles (1996)\n",
      "Predicted rating of 5.0000005984073175 for movie Saint of Fort Washington, The (1993)\n",
      "Predicted rating of 5.000000045519126 for movie Aiqing wansui (1994)\n",
      "Predicted rating of 4.999999155700832 for movie Someone Else's America (1995)\n",
      "Predicted rating of 4.999998266049712 for movie They Made Me a Criminal (1939)\n",
      "Predicted rating of 4.9999976816302985 for movie Marlene Dietrich: Shadow and Light (1996)\n",
      "Predicted rating of 4.9999956145148845 for movie Great Day in Harlem, A (1994)\n"
     ]
    }
   ],
   "source": [
    "movieList = loadMovieList()\n",
    "\n",
    "idx = my_predictions.argsort()[::-1] # reverse sort by index\n",
    "\n",
    "print(\"Top 10 movie predictions:\")\n",
    "for i in range(10):\n",
    "    j = int(idx[i])\n",
    "    print('Predicted rating of {} for movie {}'.format(my_predictions[j], movieList[j]))"
   ]
  },
  {
   "cell_type": "code",
   "execution_count": null,
   "metadata": {},
   "outputs": [],
   "source": []
  }
 ],
 "metadata": {
  "kernelspec": {
   "display_name": "Python 3",
   "language": "python",
   "name": "python3"
  },
  "language_info": {
   "codemirror_mode": {
    "name": "ipython",
    "version": 3
   },
   "file_extension": ".py",
   "mimetype": "text/x-python",
   "name": "python",
   "nbconvert_exporter": "python",
   "pygments_lexer": "ipython3",
   "version": "3.7.6"
  }
 },
 "nbformat": 4,
 "nbformat_minor": 4
}
